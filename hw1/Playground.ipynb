{
 "cells": [
  {
   "cell_type": "code",
   "execution_count": null,
   "metadata": {
    "collapsed": false
   },
   "outputs": [],
   "source": [
    "# Defines procedures to crawl match statistics\n",
    "\n",
    "import re\n",
    "import pandas as pd\n",
    "import urllib.request as request\n",
    "\n",
    "from bs4 import BeautifulSoup\n",
    "\n",
    "\n",
    "def tryParse(pattern, strVal):\n",
    "    found = re.search(pattern, strVal)\n",
    "    if found:\n",
    "        return int(found.group(1))\n",
    "\n",
    "    return None\n",
    "\n",
    "\n",
    "def fetch(url):    \n",
    "    page = request.urlopen(url).read()\n",
    "    return BeautifulSoup(page, 'html.parser')\n",
    "\n",
    "\n",
    "def normalize(bag):\n",
    "    return [round(item / sum(bag), 2) for item in bag]\n",
    "\n",
    "\n",
    "def crawlMatchUrl(url):\n",
    "    doc = fetch(url)\n",
    "\n",
    "    for table in doc.select('.scoringtable'):\n",
    "        if table['data-event'] == 'MS':\n",
    "            for link in table.select('.linkItem.matchstats a'):\n",
    "                yield link['href']\n",
    "\n",
    "\n",
    "def crawlMatchStats(url):\n",
    "    doc = fetch(url)\n",
    "\n",
    "    team1_stats, team2_stats = [], []\n",
    "\n",
    "    for row in doc.select('#summary #match-stats .row'):\n",
    "        ignoredStats      = ['Winners']\n",
    "        normalizableStats = ['Total points won']\n",
    "\n",
    "        stat = row.select('.statlabel')[0].string\n",
    "\n",
    "        if stat not in ignoredStats:\n",
    "            str_team1 = row.select('.team.team1')[0].string\n",
    "            str_team2 = row.select('.team.team2')[0].string\n",
    "\n",
    "            percentPattern = r'(\\d+) \\%'\n",
    "            val_team1 = tryParse(percentPattern, str_team1)\n",
    "            val_team2 = tryParse(percentPattern, str_team2)\n",
    "\n",
    "            if (val_team1 is None) or (val_team2 is None):\n",
    "                speedPattern = r'(\\d+) KMH'\n",
    "                val_team1 = tryParse(speedPattern, str_team1)\n",
    "                val_team2 = tryParse(speedPattern, str_team2)\n",
    "\n",
    "            if (val_team1 is None) or (val_team2 is None):\n",
    "                try:\n",
    "                    val_team1 = int(str_team1)\n",
    "                    val_team2 = int(str_team2)\n",
    "                except ValueError:\n",
    "                    val_team1 = float(str_team1)\n",
    "                    val_team2 = float(str_team2)\n",
    "\n",
    "            if stat in normalizableStats:\n",
    "                val_team1, val_team2 = normalize([val_team1, val_team2])\n",
    "\n",
    "            team1_stats.append(val_team1)\n",
    "            team2_stats.append(val_team2)\n",
    "\n",
    "    if 'team1' in doc.select('.crticon.winner')[0].parent['id']:\n",
    "        winnerStat = 0\n",
    "    else:\n",
    "        winnerStat = 1\n",
    "\n",
    "    return tuple(team1_stats + team2_stats + [winnerStat])"
   ]
  },
  {
   "cell_type": "code",
   "execution_count": null,
   "metadata": {
    "collapsed": false
   },
   "outputs": [],
   "source": [
    "# Crawl match statistics from ausopen.com using defined procedures in previous cell.\n",
    "\n",
    "domainUrl = 'http://www.ausopen.com'\n",
    "dayOfMatchesUrl = domainUrl + '/en_AU/scores/completed_matches/day7.html'\n",
    "\n",
    "matchUrls = crawlMatchUrl(dayOfMatchesUrl)\n",
    "matchStat = [crawlMatchStats(domainUrl + url) for url in matchUrls]"
   ]
  },
  {
   "cell_type": "code",
   "execution_count": null,
   "metadata": {
    "collapsed": false
   },
   "outputs": [],
   "source": [
    "# Convert collected statistics to pandas DataFrame\n",
    "\n",
    "templateLabels = [\n",
    "    'Ace', 'Double faults',\n",
    "    '1st serves in', '1st serve points won',\n",
    "    '2nd serve points won', 'Fastest serve',\n",
    "    'Average 1st serve speed', 'Average 2nd serve speed',\n",
    "    'Net points won', 'Break points won',\n",
    "    'Receiving points won', 'Unforced errors',\n",
    "    'Total points won','Distance Covered (M)',\n",
    "    'Dist. Covered/Pt. (M)',\n",
    "]\n",
    "\n",
    "team1ColLabels = [lbl + ' - Team 1' for lbl in templateLabels]\n",
    "team2ColLabels = [lbl + ' - Team 2' for lbl in templateLabels]\n",
    "colLabels  = team1ColLabels + team2ColLabels + ['Match Winner']\n",
    "\n",
    "df = pd.DataFrame(matchStat, columns = colLabels).dropna()\n",
    "\n",
    "df[colLabels[:12]] = df[colLabels[:12]].astype(int)\n",
    "df[colLabels[15:27]] = df[colLabels[15:27]].astype(int)\n",
    "df[colLabels[-1]]= df[colLabels[-1]].astype(int)"
   ]
  },
  {
   "cell_type": "code",
   "execution_count": null,
   "metadata": {
    "collapsed": false
   },
   "outputs": [],
   "source": [
    "# Save to disk as csv format\n",
    "\n",
    "df.to_csv('ausopen.csv', index=False)"
   ]
  }
 ],
 "metadata": {
  "kernelspec": {
   "display_name": "Python 3",
   "language": "python",
   "name": "python3"
  },
  "language_info": {
   "codemirror_mode": {
    "name": "ipython",
    "version": 3
   },
   "file_extension": ".py",
   "mimetype": "text/x-python",
   "name": "python",
   "nbconvert_exporter": "python",
   "pygments_lexer": "ipython3",
   "version": "3.5.1"
  }
 },
 "nbformat": 4,
 "nbformat_minor": 0
}

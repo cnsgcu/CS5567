{
 "cells": [
  {
   "cell_type": "markdown",
   "metadata": {},
   "source": [
    "# References\n",
    "\n",
    "#### Normal distribution for continous variables\n",
    "$$\n",
    "P(x) = \\frac{1}{{\\sigma \\sqrt {2\\pi } }}exp(\\frac{ - \\left( {x - \\mu } \\right)^2}{2\\sigma ^2 })\n",
    "$$\n",
    "\n",
    "$$\n",
    "\\mu: \\ \\ mean;\\ \\ \\sigma^2:\\ \\ variance\n",
    "$$\n",
    "\n",
    "#### Conditional probability\n",
    "\n",
    "$$\n",
    "P(X \\mid C) = \\frac{P(C \\mid X)P(X)}{P(C)}\n",
    "$$\n",
    "\n",
    "#### Bayes' classifier for selecting a class\n",
    "\n",
    "$$\n",
    "P(C_{i}) \\prod_{k}^{} P(X_{i}^k \\mid C_i)\n",
    "$$"
   ]
  },
  {
   "cell_type": "markdown",
   "metadata": {},
   "source": [
    "# 1. Classifier Definition"
   ]
  },
  {
   "cell_type": "code",
   "execution_count": null,
   "metadata": {
    "collapsed": false
   },
   "outputs": [],
   "source": [
    "# Classifier logic\n",
    "\n",
    "import numpy as np\n",
    "import pandas as pd\n",
    "\n",
    "class Classifier:\n",
    "    def __init__(self, training):\n",
    "        # We are going to build two classifiers to help us classify winning team. \n",
    "        #   1st classifier will calculate team 1's winning probability\n",
    "        #   2nd classifier will calculate team 2's winning probability\n",
    "        \n",
    "        # We split training data by Match Winner column because we would like to\n",
    "        # infer the classifiers' coefficients(mean and variance) from related training data\n",
    "        #   1st classifier is fed with statistics of matches in which team 1 won\n",
    "        #   2nd classifier is fed with statistics of matches in which team 2 won\n",
    "        grouped = training.groupby('Match Winner')\n",
    "        fstTraining, sndTraining = grouped.get_group(0), grouped.get_group(1)\n",
    "\n",
    "        # remove Match Winner column from training data sets\n",
    "        fstTraining = fstTraining[fstTraining.columns[:-1]]\n",
    "        sndTraining = sndTraining[sndTraining.columns[:-1]]\n",
    "\n",
    "        # infer first classifier's coefficients by feeding it with team 1 winning matches statistics\n",
    "        self.fstClassifierCofs = [ self.__normalDFCofs(fstTraining[col]) for col in fstTraining.columns ]\n",
    "\n",
    "        # infer second classifier's coefficients by feeding it  with team 2 winning matches statistics\n",
    "        self.sndClassifierCofs = [ self.__normalDFCofs(sndTraining[col]) for col in sndTraining.columns ]\n",
    "\n",
    "\n",
    "    # calculate and return winning probability of each team\n",
    "    def classify(self, x):\n",
    "        fstPr, sndPr = 1, 1\n",
    "\n",
    "        for idx, val in enumerate(x):\n",
    "            fstMean, fstVariance = self.fstClassifierCofs[idx]\n",
    "            sndMean, sndVariance = self.sndClassifierCofs[idx]\n",
    "            \n",
    "            fstPr *= self.__normalDF(val, fstMean, fstVariance)\n",
    "            sndPr *= self.__normalDF(val, sndMean, sndVariance)\n",
    "            \n",
    "        return {0: fstPr, 1: sndPr}\n",
    "\n",
    "\n",
    "    # calculate mean and variable of given data set\n",
    "    def __normalDFCofs(self, bag):\n",
    "        return (self.__mean(bag), self.__variance(bag))\n",
    "\n",
    "\n",
    "    # calculate mean of given data set\n",
    "    def __mean(self, bag):\n",
    "        return sum(bag) / float(len(bag))\n",
    "\n",
    "\n",
    "    # calculate variance of given data set\n",
    "    def __variance(self, bag):\n",
    "        mean = self.__mean(bag)\n",
    "        return sum([ pow(iteam - mean, 2) for iteam in bag ]) / float(len(bag) - 1)\n",
    "\n",
    "\n",
    "    # infer probability of a random variable x from normal distribution given mean and variance\n",
    "    def __normalDF(self, x, mean, variance):\n",
    "        return np.exp(-pow(x - mean, 2) / (2 * variance)) / np.sqrt(2 * np.pi * variance)\n",
    "\n"
   ]
  },
  {
   "cell_type": "markdown",
   "metadata": {},
   "source": [
    "# 2. Helper Methods"
   ]
  },
  {
   "cell_type": "code",
   "execution_count": null,
   "metadata": {
    "collapsed": false
   },
   "outputs": [],
   "source": [
    "# Utility functions\n",
    "import numpy as np\n",
    "\n",
    "def infer(score):\n",
    "    if np.maximum(score[0], score[1]) == score[0]:\n",
    "        return 0\n",
    "    else:\n",
    "        return 1\n",
    "\n",
    "def hit(classifier, validating):\n",
    "    inputs  = validating[validating.columns[:-1]].values\n",
    "    winners = validating[validating.columns[-1]].values\n",
    "\n",
    "    scores = [classifier.classify(x) for x in inputs]\n",
    "    inferredWinners = [infer(score) for score in scores]\n",
    "\n",
    "    return (inferredWinners == winners)\n",
    "\n",
    "\n",
    "def accuracy(classifier, validating):\n",
    "    hits = hit(classifier, validating).tolist()\n",
    "\n",
    "    return round(100 * hits.count(True) / float(len(hits)), 2)\n",
    "\n"
   ]
  },
  {
   "cell_type": "markdown",
   "metadata": {},
   "source": [
    "# 3. Data Preparation"
   ]
  },
  {
   "cell_type": "code",
   "execution_count": null,
   "metadata": {
    "collapsed": true
   },
   "outputs": [],
   "source": [
    "# load US opening matches from local file\n",
    "usdf = pd.read_csv('usopen.csv')\n",
    "\n",
    "# load AUS opening matches from local file\n",
    "ausdf = pd.read_csv('ausopen.csv')\n",
    "\n",
    "# combine US and AUS opening matches' statistics\n",
    "df = ausdf.append(usdf, ignore_index=True)\n",
    "\n",
    "grouped = df.groupby('Match Winner')\n",
    "fst, snd = grouped.get_group(0), grouped.get_group(1)\n",
    "\n",
    "\n",
    "validating = df\n",
    "\n",
    "# 10 team 1 winning matches and 10 team 2 winning matches\n",
    "training = fst.head(10).append(snd.head(10))"
   ]
  },
  {
   "cell_type": "markdown",
   "metadata": {},
   "source": [
    "# 4. Calculate accuracy of a classifier"
   ]
  },
  {
   "cell_type": "code",
   "execution_count": null,
   "metadata": {
    "collapsed": false
   },
   "outputs": [],
   "source": [
    "classifier = Classifier(training)\n",
    "\n",
    "accuracy(classifier, validating)"
   ]
  },
  {
   "cell_type": "markdown",
   "metadata": {},
   "source": [
    "# 5. Display array of hit and missed classifications"
   ]
  },
  {
   "cell_type": "code",
   "execution_count": null,
   "metadata": {
    "collapsed": false
   },
   "outputs": [],
   "source": [
    "classifier = Classifier(training)\n",
    "\n",
    "hit(classifier, validating)"
   ]
  }
 ],
 "metadata": {
  "kernelspec": {
   "display_name": "Python 3",
   "language": "python",
   "name": "python3"
  },
  "language_info": {
   "codemirror_mode": {
    "name": "ipython",
    "version": 3
   },
   "file_extension": ".py",
   "mimetype": "text/x-python",
   "name": "python",
   "nbconvert_exporter": "python",
   "pygments_lexer": "ipython3",
   "version": "3.5.1"
  }
 },
 "nbformat": 4,
 "nbformat_minor": 0
}

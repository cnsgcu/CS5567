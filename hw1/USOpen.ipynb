{
 "cells": [
  {
   "cell_type": "code",
   "execution_count": 12,
   "metadata": {
    "collapsed": false
   },
   "outputs": [],
   "source": [
    "# Defines procedures to crawl match statistics\n",
    "\n",
    "import re\n",
    "import pandas as pd\n",
    "import urllib.request as request\n",
    "\n",
    "from bs4 import BeautifulSoup\n",
    "\n",
    "\n",
    "def tryParse(pattern, strVal):\n",
    "    found = re.search(pattern, strVal)\n",
    "    if found:\n",
    "        return int(found.group(1))\n",
    "\n",
    "    return None\n",
    "\n",
    "\n",
    "def fetch(url):    \n",
    "    page = request.urlopen(url).read()\n",
    "    return BeautifulSoup(page, 'html.parser')\n",
    "\n",
    "\n",
    "def normalize(bag):\n",
    "    return [round(item / sum(bag), 2) for item in bag]\n",
    "\n",
    "\n",
    "def crawlMatchUrl(url):\n",
    "    doc = fetch(url)\n",
    "    \n",
    "    for table in doc.select('.scoringtable'):\n",
    "        print(len(table.select('.linkItem.matchstats a')))\n",
    "        for link in table.select('.linkItem.matchstats a'):\n",
    "            yield link['href']\n",
    "\n",
    "\n",
    "def crawlMatchStats(url):\n",
    "    doc = fetch(url)\n",
    "\n",
    "    team1_stats, team2_stats = [], []\n",
    "\n",
    "    for row in doc.select('#summary #match-stats .row'):\n",
    "        ignoredStats      = ['Winners']\n",
    "        normalizableStats = ['Total points won']\n",
    "\n",
    "        stat = row.select('.statlabel')[0].string\n",
    "\n",
    "        if stat not in ignoredStats:\n",
    "            str_team1 = row.select('.team.team1')[0].string\n",
    "            str_team2 = row.select('.team.team2')[0].string\n",
    "\n",
    "            percentPattern = r'(\\d+)\\%'\n",
    "            val_team1 = tryParse(percentPattern, str_team1)\n",
    "            val_team2 = tryParse(percentPattern, str_team2)\n",
    "\n",
    "            if (val_team1 is None) or (val_team2 is None):\n",
    "                speedPattern = r'(\\d+) MPH'\n",
    "                val_team1 = tryParse(speedPattern, str_team1)\n",
    "                val_team2 = tryParse(speedPattern, str_team2)\n",
    "\n",
    "            if (val_team1 is None) or (val_team2 is None):\n",
    "                try:\n",
    "                    val_team1 = int(str_team1)\n",
    "                    val_team2 = int(str_team2)\n",
    "                except ValueError:\n",
    "                    val_team1 = float(str_team1)\n",
    "                    val_team2 = float(str_team2)\n",
    "\n",
    "            if stat in normalizableStats:\n",
    "                val_team1, val_team2 = normalize([val_team1, val_team2])\n",
    "\n",
    "            team1_stats.append(val_team1)\n",
    "            team2_stats.append(val_team2)\n",
    "\n",
    "    if 'team1' in doc.select('.crticon.winner')[0].parent['id']:\n",
    "        winnerStat = 0\n",
    "    else:\n",
    "        winnerStat = 1\n",
    "\n",
    "    return tuple(team1_stats + team2_stats + [winnerStat])"
   ]
  },
  {
   "cell_type": "code",
   "execution_count": 20,
   "metadata": {
    "collapsed": false
   },
   "outputs": [
    {
     "ename": "KeyError",
     "evalue": "'id'",
     "output_type": "error",
     "traceback": [
      "\u001b[1;31m---------------------------------------------------------------------------\u001b[0m",
      "\u001b[1;31mKeyError\u001b[0m                                  Traceback (most recent call last)",
      "\u001b[1;32m<ipython-input-20-6e45614caaac>\u001b[0m in \u001b[0;36m<module>\u001b[1;34m()\u001b[0m\n\u001b[1;32m----> 1\u001b[1;33m \u001b[0mcrawlMatchStats\u001b[0m\u001b[1;33m(\u001b[0m\u001b[1;34m'http://www.usopen.org/en_US/scores/completed_matches/day7.html?event=MS'\u001b[0m\u001b[1;33m)\u001b[0m\u001b[1;33m\u001b[0m\u001b[0m\n\u001b[0m\u001b[0;32m      2\u001b[0m \u001b[1;33m\u001b[0m\u001b[0m\n\u001b[0;32m      3\u001b[0m \u001b[1;31m#df.to_csv('USSSSopen.csv', index=False)\u001b[0m\u001b[1;33m\u001b[0m\u001b[1;33m\u001b[0m\u001b[0m\n",
      "\u001b[1;32m<ipython-input-12-ae52d6c9a1ef>\u001b[0m in \u001b[0;36mcrawlMatchStats\u001b[1;34m(url)\u001b[0m\n\u001b[0;32m     72\u001b[0m             \u001b[0mteam2_stats\u001b[0m\u001b[1;33m.\u001b[0m\u001b[0mappend\u001b[0m\u001b[1;33m(\u001b[0m\u001b[0mval_team2\u001b[0m\u001b[1;33m)\u001b[0m\u001b[1;33m\u001b[0m\u001b[0m\n\u001b[0;32m     73\u001b[0m \u001b[1;33m\u001b[0m\u001b[0m\n\u001b[1;32m---> 74\u001b[1;33m     \u001b[1;32mif\u001b[0m \u001b[1;34m'team1'\u001b[0m \u001b[1;32min\u001b[0m \u001b[0mdoc\u001b[0m\u001b[1;33m.\u001b[0m\u001b[0mselect\u001b[0m\u001b[1;33m(\u001b[0m\u001b[1;34m'.crticon.winner'\u001b[0m\u001b[1;33m)\u001b[0m\u001b[1;33m[\u001b[0m\u001b[1;36m0\u001b[0m\u001b[1;33m]\u001b[0m\u001b[1;33m.\u001b[0m\u001b[0mparent\u001b[0m\u001b[1;33m[\u001b[0m\u001b[1;34m'id'\u001b[0m\u001b[1;33m]\u001b[0m\u001b[1;33m:\u001b[0m\u001b[1;33m\u001b[0m\u001b[0m\n\u001b[0m\u001b[0;32m     75\u001b[0m         \u001b[0mwinnerStat\u001b[0m \u001b[1;33m=\u001b[0m \u001b[1;36m0\u001b[0m\u001b[1;33m\u001b[0m\u001b[0m\n\u001b[0;32m     76\u001b[0m     \u001b[1;32melse\u001b[0m\u001b[1;33m:\u001b[0m\u001b[1;33m\u001b[0m\u001b[0m\n",
      "\u001b[1;32m/home/shedhta/.pyvenv/IPython/lib/python3.5/site-packages/bs4/element.py\u001b[0m in \u001b[0;36m__getitem__\u001b[1;34m(self, key)\u001b[0m\n\u001b[0;32m    956\u001b[0m         \"\"\"tag[key] returns the value of the 'key' attribute for the tag,\n\u001b[0;32m    957\u001b[0m         and throws an exception if it's not there.\"\"\"\n\u001b[1;32m--> 958\u001b[1;33m         \u001b[1;32mreturn\u001b[0m \u001b[0mself\u001b[0m\u001b[1;33m.\u001b[0m\u001b[0mattrs\u001b[0m\u001b[1;33m[\u001b[0m\u001b[0mkey\u001b[0m\u001b[1;33m]\u001b[0m\u001b[1;33m\u001b[0m\u001b[0m\n\u001b[0m\u001b[0;32m    959\u001b[0m \u001b[1;33m\u001b[0m\u001b[0m\n\u001b[0;32m    960\u001b[0m     \u001b[1;32mdef\u001b[0m \u001b[0m__iter__\u001b[0m\u001b[1;33m(\u001b[0m\u001b[0mself\u001b[0m\u001b[1;33m)\u001b[0m\u001b[1;33m:\u001b[0m\u001b[1;33m\u001b[0m\u001b[0m\n",
      "\u001b[1;31mKeyError\u001b[0m: 'id'"
     ]
    }
   ],
   "source": [
    "crawlMatchStats('http://www.usopen.org/en_US/scores/completed_matches/day7.html?event=MS')\n",
    "\n",
    "#df.to_csv('USSSSopen.csv', index=False)"
   ]
  },
  {
   "cell_type": "code",
   "execution_count": 25,
   "metadata": {
    "collapsed": false
   },
   "outputs": [],
   "source": [
    "# Crawl match statistics from ausopen.com using defined procedures in previous cell.\n",
    "\n",
    "domainUrl = 'http://www.usopen.org'\n",
    "dayOfMatchesUrl = domainUrl + '/en_US/scores/'\n",
    "\n",
    "matchUrls = crawlMatchUrl(dayOfMatchesUrl)\n",
    "matchStat = [crawlMatchStats(domainUrl + url) for url in matchUrls]"
   ]
  },
  {
   "cell_type": "code",
   "execution_count": 19,
   "metadata": {
    "collapsed": false
   },
   "outputs": [
    {
     "ename": "AssertionError",
     "evalue": "31 columns passed, passed data had 27 columns",
     "output_type": "error",
     "traceback": [
      "\u001b[1;31m---------------------------------------------------------------------------\u001b[0m",
      "\u001b[1;31mAssertionError\u001b[0m                            Traceback (most recent call last)",
      "\u001b[1;32m<ipython-input-19-5ca771e13e7e>\u001b[0m in \u001b[0;36m<module>\u001b[1;34m()\u001b[0m\n\u001b[0;32m     18\u001b[0m \u001b[0mcolLabels\u001b[0m  \u001b[1;33m=\u001b[0m \u001b[0mteam1ColLabels\u001b[0m \u001b[1;33m+\u001b[0m \u001b[0mteam2ColLabels\u001b[0m \u001b[1;33m+\u001b[0m \u001b[1;33m[\u001b[0m\u001b[1;34m'Match Winner'\u001b[0m\u001b[1;33m]\u001b[0m\u001b[1;33m\u001b[0m\u001b[0m\n\u001b[0;32m     19\u001b[0m \u001b[1;33m\u001b[0m\u001b[0m\n\u001b[1;32m---> 20\u001b[1;33m \u001b[0mdf\u001b[0m \u001b[1;33m=\u001b[0m \u001b[0mpd\u001b[0m\u001b[1;33m.\u001b[0m\u001b[0mDataFrame\u001b[0m\u001b[1;33m(\u001b[0m\u001b[0mmatchStat\u001b[0m\u001b[1;33m,\u001b[0m \u001b[0mcolumns\u001b[0m \u001b[1;33m=\u001b[0m \u001b[0mcolLabels\u001b[0m\u001b[1;33m)\u001b[0m\u001b[1;33m.\u001b[0m\u001b[0mdropna\u001b[0m\u001b[1;33m(\u001b[0m\u001b[1;33m)\u001b[0m\u001b[1;33m\u001b[0m\u001b[0m\n\u001b[0m\u001b[0;32m     21\u001b[0m \u001b[1;33m\u001b[0m\u001b[0m\n\u001b[0;32m     22\u001b[0m \u001b[0mdf\u001b[0m\u001b[1;33m[\u001b[0m\u001b[0mcolLabels\u001b[0m\u001b[1;33m[\u001b[0m\u001b[1;33m:\u001b[0m\u001b[1;36m12\u001b[0m\u001b[1;33m]\u001b[0m\u001b[1;33m]\u001b[0m \u001b[1;33m=\u001b[0m \u001b[0mdf\u001b[0m\u001b[1;33m[\u001b[0m\u001b[0mcolLabels\u001b[0m\u001b[1;33m[\u001b[0m\u001b[1;33m:\u001b[0m\u001b[1;36m12\u001b[0m\u001b[1;33m]\u001b[0m\u001b[1;33m]\u001b[0m\u001b[1;33m.\u001b[0m\u001b[0mastype\u001b[0m\u001b[1;33m(\u001b[0m\u001b[0mint\u001b[0m\u001b[1;33m)\u001b[0m\u001b[1;33m\u001b[0m\u001b[0m\n",
      "\u001b[1;32m/home/shedhta/.pyvenv/IPython/lib/python3.5/site-packages/pandas/core/frame.py\u001b[0m in \u001b[0;36m__init__\u001b[1;34m(self, data, index, columns, dtype, copy)\u001b[0m\n\u001b[0;32m    263\u001b[0m                     \u001b[1;32mif\u001b[0m \u001b[0mcom\u001b[0m\u001b[1;33m.\u001b[0m\u001b[0mis_named_tuple\u001b[0m\u001b[1;33m(\u001b[0m\u001b[0mdata\u001b[0m\u001b[1;33m[\u001b[0m\u001b[1;36m0\u001b[0m\u001b[1;33m]\u001b[0m\u001b[1;33m)\u001b[0m \u001b[1;32mand\u001b[0m \u001b[0mcolumns\u001b[0m \u001b[1;32mis\u001b[0m \u001b[1;32mNone\u001b[0m\u001b[1;33m:\u001b[0m\u001b[1;33m\u001b[0m\u001b[0m\n\u001b[0;32m    264\u001b[0m                         \u001b[0mcolumns\u001b[0m \u001b[1;33m=\u001b[0m \u001b[0mdata\u001b[0m\u001b[1;33m[\u001b[0m\u001b[1;36m0\u001b[0m\u001b[1;33m]\u001b[0m\u001b[1;33m.\u001b[0m\u001b[0m_fields\u001b[0m\u001b[1;33m\u001b[0m\u001b[0m\n\u001b[1;32m--> 265\u001b[1;33m                     \u001b[0marrays\u001b[0m\u001b[1;33m,\u001b[0m \u001b[0mcolumns\u001b[0m \u001b[1;33m=\u001b[0m \u001b[0m_to_arrays\u001b[0m\u001b[1;33m(\u001b[0m\u001b[0mdata\u001b[0m\u001b[1;33m,\u001b[0m \u001b[0mcolumns\u001b[0m\u001b[1;33m,\u001b[0m \u001b[0mdtype\u001b[0m\u001b[1;33m=\u001b[0m\u001b[0mdtype\u001b[0m\u001b[1;33m)\u001b[0m\u001b[1;33m\u001b[0m\u001b[0m\n\u001b[0m\u001b[0;32m    266\u001b[0m                     \u001b[0mcolumns\u001b[0m \u001b[1;33m=\u001b[0m \u001b[0m_ensure_index\u001b[0m\u001b[1;33m(\u001b[0m\u001b[0mcolumns\u001b[0m\u001b[1;33m)\u001b[0m\u001b[1;33m\u001b[0m\u001b[0m\n\u001b[0;32m    267\u001b[0m \u001b[1;33m\u001b[0m\u001b[0m\n",
      "\u001b[1;32m/home/shedhta/.pyvenv/IPython/lib/python3.5/site-packages/pandas/core/frame.py\u001b[0m in \u001b[0;36m_to_arrays\u001b[1;34m(data, columns, coerce_float, dtype)\u001b[0m\n\u001b[0;32m   5277\u001b[0m     \u001b[1;32mif\u001b[0m \u001b[0misinstance\u001b[0m\u001b[1;33m(\u001b[0m\u001b[0mdata\u001b[0m\u001b[1;33m[\u001b[0m\u001b[1;36m0\u001b[0m\u001b[1;33m]\u001b[0m\u001b[1;33m,\u001b[0m \u001b[1;33m(\u001b[0m\u001b[0mlist\u001b[0m\u001b[1;33m,\u001b[0m \u001b[0mtuple\u001b[0m\u001b[1;33m)\u001b[0m\u001b[1;33m)\u001b[0m\u001b[1;33m:\u001b[0m\u001b[1;33m\u001b[0m\u001b[0m\n\u001b[0;32m   5278\u001b[0m         return _list_to_arrays(data, columns, coerce_float=coerce_float,\n\u001b[1;32m-> 5279\u001b[1;33m                                dtype=dtype)\n\u001b[0m\u001b[0;32m   5280\u001b[0m     \u001b[1;32melif\u001b[0m \u001b[0misinstance\u001b[0m\u001b[1;33m(\u001b[0m\u001b[0mdata\u001b[0m\u001b[1;33m[\u001b[0m\u001b[1;36m0\u001b[0m\u001b[1;33m]\u001b[0m\u001b[1;33m,\u001b[0m \u001b[0mcollections\u001b[0m\u001b[1;33m.\u001b[0m\u001b[0mMapping\u001b[0m\u001b[1;33m)\u001b[0m\u001b[1;33m:\u001b[0m\u001b[1;33m\u001b[0m\u001b[0m\n\u001b[0;32m   5281\u001b[0m         return _list_of_dict_to_arrays(data, columns,\n",
      "\u001b[1;32m/home/shedhta/.pyvenv/IPython/lib/python3.5/site-packages/pandas/core/frame.py\u001b[0m in \u001b[0;36m_list_to_arrays\u001b[1;34m(data, columns, coerce_float, dtype)\u001b[0m\n\u001b[0;32m   5360\u001b[0m         \u001b[0mcontent\u001b[0m \u001b[1;33m=\u001b[0m \u001b[0mlist\u001b[0m\u001b[1;33m(\u001b[0m\u001b[0mlib\u001b[0m\u001b[1;33m.\u001b[0m\u001b[0mto_object_array\u001b[0m\u001b[1;33m(\u001b[0m\u001b[0mdata\u001b[0m\u001b[1;33m)\u001b[0m\u001b[1;33m.\u001b[0m\u001b[0mT\u001b[0m\u001b[1;33m)\u001b[0m\u001b[1;33m\u001b[0m\u001b[0m\n\u001b[0;32m   5361\u001b[0m     return _convert_object_array(content, columns, dtype=dtype,\n\u001b[1;32m-> 5362\u001b[1;33m                                  coerce_float=coerce_float)\n\u001b[0m\u001b[0;32m   5363\u001b[0m \u001b[1;33m\u001b[0m\u001b[0m\n\u001b[0;32m   5364\u001b[0m \u001b[1;33m\u001b[0m\u001b[0m\n",
      "\u001b[1;32m/home/shedhta/.pyvenv/IPython/lib/python3.5/site-packages/pandas/core/frame.py\u001b[0m in \u001b[0;36m_convert_object_array\u001b[1;34m(content, columns, coerce_float, dtype)\u001b[0m\n\u001b[0;32m   5418\u001b[0m             \u001b[1;31m# caller's responsibility to check for this...\u001b[0m\u001b[1;33m\u001b[0m\u001b[1;33m\u001b[0m\u001b[0m\n\u001b[0;32m   5419\u001b[0m             raise AssertionError('%d columns passed, passed data had %s '\n\u001b[1;32m-> 5420\u001b[1;33m                                  'columns' % (len(columns), len(content)))\n\u001b[0m\u001b[0;32m   5421\u001b[0m \u001b[1;33m\u001b[0m\u001b[0m\n\u001b[0;32m   5422\u001b[0m     \u001b[1;31m# provide soft conversion of object dtypes\u001b[0m\u001b[1;33m\u001b[0m\u001b[1;33m\u001b[0m\u001b[0m\n",
      "\u001b[1;31mAssertionError\u001b[0m: 31 columns passed, passed data had 27 columns"
     ]
    }
   ],
   "source": [
    "# Convert collected statistics to pandas DataFrame\n",
    "\n",
    "matchStat = [crawlMatchStats('http://www.usopen.org/en_US/scores/stats/day20/21601ms.html')]\n",
    "\n",
    "templateLabels = [\n",
    "    'Ace', 'Double faults',\n",
    "    '1st serves in', '1st serve points won',\n",
    "    '2nd serve points won', 'Fastest serve',\n",
    "    'Average 1st serve speed', 'Average 2nd serve speed',\n",
    "    'Net points won', 'Break points won',\n",
    "    'Receiving points won', 'Unforced errors',\n",
    "    'Total points won','Distance Covered (M)',\n",
    "    'Dist. Covered/Pt. (M)',\n",
    "]\n",
    "\n",
    "team1ColLabels = [lbl + ' - Team 1' for lbl in templateLabels]\n",
    "team2ColLabels = [lbl + ' - Team 2' for lbl in templateLabels]\n",
    "colLabels  = team1ColLabels + team2ColLabels + ['Match Winner']\n",
    "\n",
    "df = pd.DataFrame(matchStat, columns = colLabels).dropna()\n",
    "\n",
    "df[colLabels[:12]] = df[colLabels[:12]].astype(int)\n",
    "df[colLabels[15:27]] = df[colLabels[15:27]].astype(int)\n",
    "df[colLabels[-1]]= df[colLabels[-1]].astype(int)"
   ]
  },
  {
   "cell_type": "code",
   "execution_count": 18,
   "metadata": {
    "collapsed": true
   },
   "outputs": [],
   "source": [
    "# Save to disk as csv format\n",
    "\n",
    "df.to_csv('USSSSopen1.csv', index=False)"
   ]
  }
 ],
 "metadata": {
  "kernelspec": {
   "display_name": "Python 3",
   "language": "python",
   "name": "python3"
  },
  "language_info": {
   "codemirror_mode": {
    "name": "ipython",
    "version": 3
   },
   "file_extension": ".py",
   "mimetype": "text/x-python",
   "name": "python",
   "nbconvert_exporter": "python",
   "pygments_lexer": "ipython3",
   "version": "3.5.1"
  }
 },
 "nbformat": 4,
 "nbformat_minor": 0
}

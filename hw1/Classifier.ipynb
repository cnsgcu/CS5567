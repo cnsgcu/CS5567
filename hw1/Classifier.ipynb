{
 "cells": [
  {
   "cell_type": "code",
   "execution_count": null,
   "metadata": {
    "collapsed": true
   },
   "outputs": [],
   "source": [
    "import numpy as np\n",
    "import pandas as pd\n",
    "\n",
    "def Mean(bag):\n",
    "    return sum(bag) / float(len(bag))\n",
    "\n",
    "\n",
    "def Variance(bag):\n",
    "    mean = Mean(bag)\n",
    "    return sum([ pow(i - mean, 2) for i in bag ]) / float(len(bag) - 1)\n",
    "\n",
    "\n",
    "def normalDFCof(bag):\n",
    "    return (Mean(bag), Variance(bag))\n",
    "\n",
    "\n",
    "def normalDF(x, mean, var):\n",
    "    return np.exp(-pow(x - mean, 2) / (2 * var)) / np.sqrt(2 * np.pi * var)\n",
    "\n",
    "\n",
    "def classify(x, training):\n",
    "    # group training data by match winner\n",
    "    grouped = training.groupby('Match Winner')\n",
    "    fst, snd = grouped.get_group(0), grouped.get_group(1)\n",
    "\n",
    "    # remove Match Winner column\n",
    "    fst = fst[fst.columns[:-1]]\n",
    "    snd = snd[snd.columns[:-1]]\n",
    "\n",
    "    # create normal density function for each column\n",
    "    fstDFCof = [ normalDFCof(fst[col]) for col in fst.columns ]\n",
    "    sndDFCof = [ normalDFCof(snd[col]) for col in snd.columns ]\n",
    "\n",
    "    # calculate probability of each group\n",
    "    fstPr, sndPr = 1, 1\n",
    "    for i, v in enumerate(x):\n",
    "        fstPr *= normalDF(v, fstDFCof[i][0], fstDFCof[i][1])\n",
    "        sndPr *= normalDF(v, sndDFCof[i][0], sndDFCof[i][1])\n",
    "\n",
    "    return {0: fstPr, 1: sndPr}\n",
    "\n",
    "\n",
    "df = pd.read_csv('ausopen.csv')\n",
    "\n",
    "grouped = df.groupby('Match Winner')\n",
    "fst, snd = grouped.get_group(0), grouped.get_group(1)\n",
    "\n",
    "training = fst.head(5).append(snd.head(5))\n",
    "\n",
    "x = snd[6:7].values.tolist()[0][:-1]\n",
    "\n",
    "scores = classify(x, training)\n",
    "\n",
    "print(scores)\n",
    "\n",
    "if np.maximum(scores[0], scores[1]) == scores[0]:\n",
    "    print(\"First team\")\n",
    "else:\n",
    "    print(\"Second team\")"
   ]
  }
 ],
 "metadata": {
  "kernelspec": {
   "display_name": "Python 3",
   "language": "python",
   "name": "python3"
  },
  "language_info": {
   "codemirror_mode": {
    "name": "ipython",
    "version": 3
   },
   "file_extension": ".py",
   "mimetype": "text/x-python",
   "name": "python",
   "nbconvert_exporter": "python",
   "pygments_lexer": "ipython3",
   "version": "3.5.1"
  }
 },
 "nbformat": 4,
 "nbformat_minor": 0
}
